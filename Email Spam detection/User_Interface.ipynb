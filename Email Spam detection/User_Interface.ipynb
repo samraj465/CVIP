{
 "cells": [
  {
   "cell_type": "code",
   "execution_count": 7,
   "id": "4773e108-c4d4-4aeb-8fc0-b4ca1d130dc1",
   "metadata": {},
   "outputs": [],
   "source": [
    "import joblib\n",
    "import pandas as pd\n",
    "import re\n",
    "from sklearn.feature_extraction.text import TfidfVectorizer\n",
    "from nltk.corpus import stopwords\n",
    "from nltk.tokenize import word_tokenize"
   ]
  },
  {
   "cell_type": "code",
   "execution_count": 8,
   "id": "a1eefc46-77e9-4175-b2e0-d8deb2c3158c",
   "metadata": {},
   "outputs": [],
   "source": [
    "#To load the saved model\n",
    "BerNB=joblib.load('model_joblib.pkl')\n",
    "with open('tfidf_vectorizer.pkl','rb') as file:\n",
    "    loaded_tfidf_vectorizer=joblib.load(file)"
   ]
  },
  {
   "cell_type": "code",
   "execution_count": 10,
   "id": "78236ea0-5c34-4403-8432-17f00aea8086",
   "metadata": {},
   "outputs": [
    {
     "name": "stdin",
     "output_type": "stream",
     "text": [
      "Enter a message: \"Congratulations! You've won a free trip to an exotic destination. Claim your prize now!\"\n"
     ]
    }
   ],
   "source": [
    "#Preprocessing the user input\n",
    "def preprocess(text):\n",
    "    text=re.sub(r\"[^a-zA-Z]\",\" \",text)\n",
    "    words=word_tokenize(text)\n",
    "    stop_words=set(stopwords.words('english'))\n",
    "    words=[word for word in words if word not in stop_words]\n",
    "    return ' '.join(words)\n",
    "\n",
    "user_input=input(\"Enter a message:\")\n",
    "input_text=preprocess(user_input)\n",
    "\n",
    "#Vectorizing the input\n",
    "input_vectorized=loaded_tfidf_vectorizer.transform([input_text])"
   ]
  },
  {
   "cell_type": "code",
   "execution_count": 11,
   "id": "58ae0059-f105-46dc-abd5-1396462f9560",
   "metadata": {},
   "outputs": [
    {
     "name": "stdout",
     "output_type": "stream",
     "text": [
      "Prediction if it's ham or spam: spam\n"
     ]
    }
   ],
   "source": [
    "prediction=BerNB.predict(input_vectorized)\n",
    "print(\"Prediction if it's ham or spam:\",prediction[0])"
   ]
  }
 ],
 "metadata": {
  "kernelspec": {
   "display_name": "Python 3 (ipykernel)",
   "language": "python",
   "name": "python3"
  },
  "language_info": {
   "codemirror_mode": {
    "name": "ipython",
    "version": 3
   },
   "file_extension": ".py",
   "mimetype": "text/x-python",
   "name": "python",
   "nbconvert_exporter": "python",
   "pygments_lexer": "ipython3",
   "version": "3.11.4"
  }
 },
 "nbformat": 4,
 "nbformat_minor": 5
}
