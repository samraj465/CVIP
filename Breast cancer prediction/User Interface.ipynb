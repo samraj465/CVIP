{
 "cells": [
  {
   "cell_type": "code",
   "execution_count": 1,
   "id": "e81b43f7-fe18-47ed-b82b-0212834e2028",
   "metadata": {},
   "outputs": [],
   "source": [
    "import pandas as pd\n",
    "import joblib"
   ]
  },
  {
   "cell_type": "code",
   "execution_count": 3,
   "id": "66988a0e-dedd-46f4-bee5-c0d3be2cc621",
   "metadata": {},
   "outputs": [],
   "source": [
    "#To load the saved model\n",
    "rf=joblib.load('joblib_model.pkl')"
   ]
  },
  {
   "cell_type": "code",
   "execution_count": 4,
   "id": "658580cb-85a0-49c6-9075-e8fc28a4c2f5",
   "metadata": {},
   "outputs": [
    {
     "name": "stdin",
     "output_type": "stream",
     "text": [
      "Enter ID: 127632\n",
      "Enter feature 1: 4\n",
      "Enter feature 2: 3\n",
      "Enter feature 3: 6\n",
      "Enter feature 4: 7\n",
      "Enter feature 5: 8\n",
      "Enter feature 6: 9\n",
      "Enter feature 7: 2\n",
      "Enter feature 8: 3\n",
      "Enter feature 9: 10\n"
     ]
    },
    {
     "name": "stdout",
     "output_type": "stream",
     "text": [
      "Malignant\n"
     ]
    },
    {
     "name": "stderr",
     "output_type": "stream",
     "text": [
      "D:\\idle\\Lib\\site-packages\\sklearn\\base.py:465: UserWarning: X does not have valid feature names, but RandomForestClassifier was fitted with feature names\n",
      "  warnings.warn(\n"
     ]
    }
   ],
   "source": [
    "#To perform the user input frame\n",
    "def predict(user_input):\n",
    "    user_df=pd.DataFrame([user_input])\n",
    "    predictions=rf.predict(user_df)\n",
    "    return predictions\n",
    "feature_id=int(input(\"Enter ID:\"))\n",
    "feature_1=float(input(\"Enter feature 1:\"))\n",
    "feature_2=float(input(\"Enter feature 2:\"))\n",
    "feature_3=float(input(\"Enter feature 3:\"))\n",
    "feature_4=float(input(\"Enter feature 4:\"))\n",
    "feature_5=float(input(\"Enter feature 5:\"))\n",
    "feature_6=float(input(\"Enter feature 6:\"))\n",
    "feature_7=float(input(\"Enter feature 7:\"))\n",
    "feature_8=float(input(\"Enter feature 8:\"))\n",
    "feature_9=float(input(\"Enter feature 9:\"))\n",
    "\n",
    "user_data=[feature_id,feature_1,feature_2,feature_3,feature_4,feature_5,feature_6,feature_7,feature_8,feature_9]\n",
    "predictions=predict(user_data)\n",
    "\n",
    "if predictions==0:\n",
    "    print(\"Benign\")\n",
    "else:\n",
    "    print(\"Malignant\")"
   ]
  },
  {
   "cell_type": "code",
   "execution_count": null,
   "id": "f81ba508-3a40-463d-b75b-994da1f9e690",
   "metadata": {},
   "outputs": [],
   "source": []
  }
 ],
 "metadata": {
  "kernelspec": {
   "display_name": "Python 3 (ipykernel)",
   "language": "python",
   "name": "python3"
  },
  "language_info": {
   "codemirror_mode": {
    "name": "ipython",
    "version": 3
   },
   "file_extension": ".py",
   "mimetype": "text/x-python",
   "name": "python",
   "nbconvert_exporter": "python",
   "pygments_lexer": "ipython3",
   "version": "3.11.4"
  }
 },
 "nbformat": 4,
 "nbformat_minor": 5
}
